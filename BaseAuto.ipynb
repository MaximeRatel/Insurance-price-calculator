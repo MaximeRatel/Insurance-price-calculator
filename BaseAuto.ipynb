{
  "nbformat": 4,
  "nbformat_minor": 0,
  "metadata": {
    "colab": {
      "name": "BaseAuto.ipynb",
      "provenance": [],
      "collapsed_sections": [
        "NyafPO8ALWqc",
        "yT0jqBMns9M7",
        "RNTmQZcrtAl7"
      ],
      "mount_file_id": "1sBLIZaMaxSpVWWWqd96exlHnAEMPVlfX",
      "authorship_tag": "ABX9TyNSrqv5TVltyW5de368n+mD",
      "include_colab_link": true
    },
    "kernelspec": {
      "name": "python3",
      "display_name": "Python 3"
    }
  },
  "cells": [
    {
      "cell_type": "markdown",
      "metadata": {
        "id": "view-in-github",
        "colab_type": "text"
      },
      "source": [
        "<a href=\"https://colab.research.google.com/github/MaximeRatel/Tarificateur-Auto/blob/master/BaseAuto.ipynb\" target=\"_parent\"><img src=\"https://colab.research.google.com/assets/colab-badge.svg\" alt=\"Open In Colab\"/></a>"
      ]
    },
    {
      "cell_type": "markdown",
      "metadata": {
        "id": "t6tRAkSjbYKh"
      },
      "source": [
        "# Importations"
      ]
    },
    {
      "cell_type": "code",
      "metadata": {
        "id": "wKa553UcbVmx",
        "outputId": "96a3462e-8e62-4224-a9bb-a662f23d8ca1",
        "colab": {
          "base_uri": "https://localhost:8080/",
          "height": 35
        }
      },
      "source": [
        "%cd /content/drive/My Drive/Kaggle/BASEAUTO\n",
        "\n",
        "import pandas as pd\n",
        "import numpy as np\n",
        "import pickle\n",
        "import joblib\n",
        "import time\n",
        "\n",
        "from sklearn.model_selection import train_test_split, RandomizedSearchCV, GridSearchCV, StratifiedKFold\n",
        "from sklearn.metrics import mean_squared_error, mean_absolute_error\n",
        "from sklearn.linear_model import LinearRegression, LogisticRegression\n",
        "from sklearn.preprocessing import OneHotEncoder\n",
        "from sklearn.svm import SVC\n",
        "from sklearn.ensemble import RandomForestRegressor\n",
        "from sklearn.metrics import confusion_matrix\n",
        "from sklearn.tree import export_graphviz\n",
        "\n",
        "import statsmodels.api as sm\n",
        "\n",
        "from scipy import stats\n",
        "\n",
        "from xgboost import XGBRegressor, plot_tree\n",
        "import xgboost as xgb\n",
        "\n",
        "import matplotlib.pyplot as plt"
      ],
      "execution_count": null,
      "outputs": [
        {
          "output_type": "stream",
          "text": [
            "/content/drive/My Drive/Kaggle/BASEAUTO\n"
          ],
          "name": "stdout"
        }
      ]
    },
    {
      "cell_type": "markdown",
      "metadata": {
        "id": "yHjmuk_Mbb4P"
      },
      "source": [
        "# Fonctions"
      ]
    },
    {
      "cell_type": "code",
      "metadata": {
        "id": "pEfGkH_7bbU2"
      },
      "source": [
        "list_num = ['PERMIS','ACV','AGECOND','RM','CLA','VIT','GARAGE']\n",
        "list_cat = ['SEX','STATUT','CSP','USAGE','K8000','CAR','ALI','ENE','SEGM']\n",
        "\n",
        "def conversion_var(df):\n",
        "  \"\"\" Convertit les variables catégorielles et ordinales du jeu de données au format adéquat\"\"\"\n",
        "  \n",
        "  df['CLA']   = pd.factorize(df['CLA'])[0]\n",
        "  df['VIT']   = pd.factorize(df['VIT'])[0]\n",
        "  return df\n",
        "\n",
        "\n",
        "def OneHotEncoding(df, encoder):\n",
        "  \"\"\" Encode un dataframe et trie les données par index croissant (par commodité)\"\"\"\n",
        "\n",
        "  \"On isole les variables numériques\"\n",
        "  df_num = df[list_num].sort_index()\n",
        "\n",
        "  \"On encode les variables categorielles\"\n",
        "  df_cat = df[list_cat].sort_index()\n",
        "  df_cat = encoder.transform(df_cat)\n",
        "  df_cat = pd.DataFrame(df_cat, columns=encoder.get_feature_names())\n",
        "  df_cat = df_cat.set_index(df_num.index)\n",
        "\n",
        "  \"On retourne le jeu de données ré-assemblé\"\n",
        "  return pd.concat([df_num, df_cat],axis=1)"
      ],
      "execution_count": null,
      "outputs": []
    },
    {
      "cell_type": "markdown",
      "metadata": {
        "id": "gYYtRNmFbhd4"
      },
      "source": [
        "# Préparation des données"
      ]
    },
    {
      "cell_type": "code",
      "metadata": {
        "id": "GzVy-zhy7XrG"
      },
      "source": [
        "#Lecture des données\n",
        "data = pd.read_csv(\"BASEAUTO.csv\", sep=\";\")\n",
        "\n",
        "#Conversion des variables catégorielles et ordinales au format adéquat\n",
        "data = conversion_var(data)\n",
        "\n",
        "y = data.CHARGE\n",
        "X = data.drop('CHARGE', axis=1)\n",
        "\n",
        "# On split les données\n",
        "X_train, X_test, y_train, y_test = train_test_split(X, y, test_size=0.2, random_state=42)\n",
        "\n",
        "#Création de notre encoder\n",
        "encoder = OneHotEncoder(sparse=False)\n",
        "encoder.fit(X[list_cat])\n",
        "\n",
        "#OneHotEncoding des variables catégorielles\n",
        "X_train = OneHotEncoding(X_train, encoder)\n",
        "X_test = OneHotEncoding(X_test, encoder)\n",
        "\n",
        "#Jeux de données pour modèle de frequence (0 : non sinistré / 1 : sinistré)\n",
        "freq_train = (y_train != 0).astype(int)\n",
        "freq_test = (y_test != 0).astype(int)\n",
        "\n",
        "#Jeux de données pour modèle de coût (on garde les observations avec sinistres)\n",
        "cout_train = y_train[y_train != 0]\n",
        "X_cout_train = X_train.loc[cout_train.index, :]\n",
        "cout_test = y_test[y_test != 0]\n",
        "X_cout_test = X_test.loc[cout_test.index, :]"
      ],
      "execution_count": null,
      "outputs": []
    },
    {
      "cell_type": "markdown",
      "metadata": {
        "id": "FdkVoK2GLIne"
      },
      "source": [
        "# **Modèle de prévision de la fréquence**"
      ]
    },
    {
      "cell_type": "markdown",
      "metadata": {
        "id": "9IX9CSBltHRS"
      },
      "source": [
        "### XGBoost"
      ]
    },
    {
      "cell_type": "code",
      "metadata": {
        "id": "Qcm5pJG4klIA",
        "outputId": "aff20398-710c-44b0-8c62-1f684fe3c559",
        "colab": {
          "base_uri": "https://localhost:8080/",
          "height": 247
        }
      },
      "source": [
        "params = {\n",
        "        'min_child_weight': [1, 5, 10],\n",
        "        'gamma': [0.1, 0.5, 1, 1.5, 2, 5],\n",
        "        'subsample': [0.4, 0.6, 0.8, 1.0],\n",
        "        'colsample_bytree': [0.6, 0.8, 1.0, 1.2],\n",
        "        'max_depth': [3, 4, 5, 6],\n",
        "        'n_estimators': [50, 100, 300, 500]\n",
        "        }\n",
        "\n",
        "skf = StratifiedKFold(n_splits=5, shuffle = True, random_state = 42)\n",
        "\n",
        "model_freq = XGBRegressor(learning_rate=0.02, objective='count:poisson')\n",
        "\n",
        "random_search = GridSearchCV(model_freq, param_distributions=params, n_iter=5, \n",
        "                                   scoring='neg_mean_poisson_deviance', n_jobs=4, cv=skf.split(X_train,freq_train), verbose=3, random_state=42 )\n",
        "\n",
        "random_search.fit(X_train, freq_train)\n",
        "\n",
        "print(random_search.best_params_)"
      ],
      "execution_count": null,
      "outputs": [
        {
          "output_type": "error",
          "ename": "TypeError",
          "evalue": "ignored",
          "traceback": [
            "\u001b[0;31m---------------------------------------------------------------------------\u001b[0m",
            "\u001b[0;31mTypeError\u001b[0m                                 Traceback (most recent call last)",
            "\u001b[0;32m<ipython-input-6-f0bae319416e>\u001b[0m in \u001b[0;36m<module>\u001b[0;34m()\u001b[0m\n\u001b[1;32m     13\u001b[0m \u001b[0;34m\u001b[0m\u001b[0m\n\u001b[1;32m     14\u001b[0m random_search = GridSearchCV(model_freq, param_distributions=params, n_iter=5, \n\u001b[0;32m---> 15\u001b[0;31m                                    scoring='neg_mean_poisson_deviance', n_jobs=4, cv=skf.split(X_train,freq_train), verbose=3, random_state=42 )\n\u001b[0m\u001b[1;32m     16\u001b[0m \u001b[0;34m\u001b[0m\u001b[0m\n\u001b[1;32m     17\u001b[0m \u001b[0mrandom_search\u001b[0m\u001b[0;34m.\u001b[0m\u001b[0mfit\u001b[0m\u001b[0;34m(\u001b[0m\u001b[0mX_train\u001b[0m\u001b[0;34m,\u001b[0m \u001b[0mfreq_train\u001b[0m\u001b[0;34m)\u001b[0m\u001b[0;34m\u001b[0m\u001b[0;34m\u001b[0m\u001b[0m\n",
            "\u001b[0;31mTypeError\u001b[0m: __init__() got an unexpected keyword argument 'param_distributions'"
          ]
        }
      ]
    },
    {
      "cell_type": "code",
      "metadata": {
        "id": "EAyWROZ3R3QG",
        "outputId": "2dfbb08b-b4e2-4e2b-9502-a94cdf25fa52",
        "colab": {
          "base_uri": "https://localhost:8080/",
          "height": 276
        }
      },
      "source": [
        "print(stats.describe(random_search.predict(X_train)))\n",
        "print(\"Frequence sinistre train\", freq_train.mean())\n",
        "print(\"\\n\")\n",
        "print(stats.describe(random_search.predict(X_test)))\n",
        "print(\"Frequence sinistre train\", freq_test.mean())\n",
        "print(\"\\n\")\n",
        "print(\"R² train\", random_search.score(X_train, freq_train))\n",
        "print(\"R² test\", random_search.score(X_test, freq_test))\n",
        "print(\"\\n\")\n",
        "print(\"MAE train\", mean_absolute_error(random_search.predict(X_train), freq_train))\n",
        "print(\"MAE test\", mean_absolute_error(random_search.predict(X_test), freq_test))"
      ],
      "execution_count": null,
      "outputs": [
        {
          "output_type": "stream",
          "text": [
            "DescribeResult(nobs=8396, minmax=(0.06735271, 0.39089057), mean=0.13440977, variance=0.0011015203, skewness=1.465883493423462, kurtosis=4.157983918352726)\n",
            "Frequence sinistre train 0.1333968556455455\n",
            "\n",
            "\n",
            "DescribeResult(nobs=2100, minmax=(0.07239915, 0.3429558), mean=0.13423501, variance=0.00094898115, skewness=1.1874415874481201, kurtosis=2.634746124542029)\n",
            "Frequence sinistre train 0.13238095238095238\n",
            "\n",
            "\n",
            "R² train -0.49319432524818346\n",
            "R² test -0.5433404195058359\n",
            "\n",
            "\n",
            "MAE train 0.2241608136461754\n",
            "MAE test 0.2313574061081523\n"
          ],
          "name": "stdout"
        }
      ]
    },
    {
      "cell_type": "code",
      "metadata": {
        "id": "xfU4sjXBt2kY"
      },
      "source": [
        "model_freq = random_search"
      ],
      "execution_count": null,
      "outputs": []
    },
    {
      "cell_type": "code",
      "metadata": {
        "id": "4BmOXhgH5an6"
      },
      "source": [
        "pickle.dump(model_freq, open('model_freq.pkl', 'wb'))"
      ],
      "execution_count": null,
      "outputs": []
    },
    {
      "cell_type": "markdown",
      "metadata": {
        "id": "yVuSPY6w24S7"
      },
      "source": [
        "# **Modèle de prévision du coût**"
      ]
    },
    {
      "cell_type": "markdown",
      "metadata": {
        "id": "Uaot5xgsJCRf"
      },
      "source": [
        "### RandomForest (problème avec XGBoost, tj pas trouvé pourquoi)"
      ]
    },
    {
      "cell_type": "code",
      "metadata": {
        "id": "lu1W33dUTeN2",
        "outputId": "f5897334-a615-4e78-9018-7712f9550562",
        "colab": {
          "base_uri": "https://localhost:8080/",
          "height": 35
        }
      },
      "source": [
        "model_cout = RandomForestRegressor(min_samples_leaf=5).fit(X_cout_train, cout_train)#XGBRegressor(objective='reg:gamma', min_child_weight= 5, max_depth=6, random_state=10).fit(X_cout_train, cout_train)\n",
        "stats.describe(model_cout.predict(X_cout_train))"
      ],
      "execution_count": null,
      "outputs": [
        {
          "output_type": "execute_result",
          "data": {
            "text/plain": [
              "DescribeResult(nobs=1120, minmax=(546.894862155002, 9825.34922001858), mean=1868.7328997356226, variance=974194.3579552795, skewness=2.4530500384436853, kurtosis=10.416551602478567)"
            ]
          },
          "metadata": {
            "tags": []
          },
          "execution_count": 100
        }
      ]
    },
    {
      "cell_type": "code",
      "metadata": {
        "id": "jhGelO71n43Y",
        "outputId": "b4787a0c-1a18-491b-c1fe-2487a0a5e524",
        "colab": {
          "base_uri": "https://localhost:8080/",
          "height": 283
        }
      },
      "source": [
        "plt.scatter(cout_train, model_cout.predict(X_cout_train))"
      ],
      "execution_count": null,
      "outputs": [
        {
          "output_type": "execute_result",
          "data": {
            "text/plain": [
              "<matplotlib.collections.PathCollection at 0x7f203052cac8>"
            ]
          },
          "metadata": {
            "tags": []
          },
          "execution_count": 64
        },
        {
          "output_type": "display_data",
          "data": {
            "image/png": "[encoded data removed]",
            "text/plain": [
              "<Figure size 432x288 with 1 Axes>"
            ]
          },
          "metadata": {
            "tags": [],
            "needs_background": "light"
          }
        }
      ]
    },
    {
      "cell_type": "code",
      "metadata": {
        "id": "_x_vyehoFgDB",
        "outputId": "28e0840c-875b-44cc-f542-0d66f103e65c",
        "colab": {
          "base_uri": "https://localhost:8080/",
          "height": 54
        }
      },
      "source": [
        "model_cout.predict(X_cout_train)"
      ],
      "execution_count": null,
      "outputs": [
        {
          "output_type": "execute_result",
          "data": {
            "text/plain": [
              "array([2203.71243056, 1359.69650697, 1687.52056121, ..., 1224.13454465,\n",
              "       1182.59649502, 1279.99727237])"
            ]
          },
          "metadata": {
            "tags": []
          },
          "execution_count": 65
        }
      ]
    },
    {
      "cell_type": "code",
      "metadata": {
        "id": "SZTLnnyMFijI",
        "outputId": "6cd3c92d-1662-4173-b7aa-acab51f46190",
        "colab": {
          "base_uri": "https://localhost:8080/",
          "height": 239
        }
      },
      "source": [
        "cout_train"
      ],
      "execution_count": null,
      "outputs": [
        {
          "output_type": "execute_result",
          "data": {
            "text/plain": [
              "10132    2154\n",
              "7918      772\n",
              "4885     1030\n",
              "3429      347\n",
              "4851      102\n",
              "         ... \n",
              "1585     1093\n",
              "7734      390\n",
              "9167      223\n",
              "5578     1244\n",
              "5734      121\n",
              "Name: CHARGE, Length: 1120, dtype: int64"
            ]
          },
          "metadata": {
            "tags": []
          },
          "execution_count": 9
        }
      ]
    },
    {
      "cell_type": "markdown",
      "metadata": {
        "id": "D-op7DhrdsrP"
      },
      "source": [
        "# **Modèle final**"
      ]
    },
    {
      "cell_type": "code",
      "metadata": {
        "id": "SP890NJGLSCj",
        "outputId": "c9bb9da1-1c89-4940-d2f9-1b7ce76b6930",
        "colab": {
          "base_uri": "https://localhost:8080/",
          "height": 54
        }
      },
      "source": [
        "final_pred_train = model_freq.predict(X_train) * model_cout.predict(X_train) \n",
        "print(stats.describe(final_pred_train))\n",
        "\n",
        "final_pred_test = model_freq.predict(X_test) * model_cout.predict(X_test) \n",
        "print(stats.describe(final_pred_test))"
      ],
      "execution_count": null,
      "outputs": [
        {
          "output_type": "stream",
          "text": [
            "DescribeResult(nobs=8396, minmax=(61.444629429797864, 1483.794030713851), mean=245.63322862169733, variance=17310.489319554363, skewness=2.58158173606543, kurtosis=11.197610860665502)\n",
            "DescribeResult(nobs=2100, minmax=(69.25413025403347, 1268.118014396514), mean=250.0614123763706, variance=17063.317597535737, skewness=2.33422567654709, kurtosis=8.502286556392187)\n"
          ],
          "name": "stdout"
        }
      ]
    },
    {
      "cell_type": "code",
      "metadata": {
        "id": "wErQiKNULR9b",
        "outputId": "46c68d9a-24f5-4ab0-95a5-88053e831728",
        "colab": {
          "base_uri": "https://localhost:8080/",
          "height": 91
        }
      },
      "source": [
        "print(\"Total coût sinistres\", y_train.sum())\n",
        "print(\"Total primes calculées par le modèle\", final_pred_train.sum())\n",
        "\n",
        "print(\"Total coût sinistres\", y_test.sum())\n",
        "print(\"Total primes calculées par le modèle\", final_pred_test.sum())"
      ],
      "execution_count": null,
      "outputs": [
        {
          "output_type": "stream",
          "text": [
            "Total coût sinistres 2038657\n",
            "Total primes calculées par le modèle 2062336.5875077709\n",
            "Total coût sinistres 522529\n",
            "Total primes calculées par le modèle 525128.9659903783\n"
          ],
          "name": "stdout"
        }
      ]
    },
    {
      "cell_type": "code",
      "metadata": {
        "id": "1iHSgEEDmmSX"
      },
      "source": [
        "with open('encoder.pkl', 'wb') as file:\n",
        "  pickle.dump(encoder, file)\n",
        "with open('model_freq.pkl', 'wb') as file:\n",
        "  pickle.dump(model_freq, file)\n",
        "with open('model_cout.pkl', 'wb') as file:\n",
        "  pickle.dump(model_cout, file)"
      ],
      "execution_count": null,
      "outputs": []
    }
  ]
}